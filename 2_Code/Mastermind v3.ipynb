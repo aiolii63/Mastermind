{
 "cells": [
  {
   "cell_type": "code",
   "execution_count": null,
   "id": "2eb5dce8",
   "metadata": {
    "scrolled": true
   },
   "outputs": [
    {
     "name": "stdout",
     "output_type": "stream",
     "text": [
      "Please chose one colored pin (1 is RED, 2 is GREEN, 3 is BLUE, 4 is BLACK, 5 is WHITE, 6 is PURPLE):1\n",
      "Please chose one colored pin (1 is RED, 2 is GREEN, 3 is BLUE, 4 is BLACK, 5 is WHITE, 6 is PURPLE):2\n",
      "Please chose one colored pin (1 is RED, 2 is GREEN, 3 is BLUE, 4 is BLACK, 5 is WHITE, 6 is PURPLE):3\n",
      "Please chose one colored pin (1 is RED, 2 is GREEN, 3 is BLUE, 4 is BLACK, 5 is WHITE, 6 is PURPLE):4\n",
      ">>> Your attempt # 1 was:  ['RED', 'GREEN', 'BLUE', 'BLACK']\n",
      ">>>Your result so far:  1 exact match(es),  2  near match(es) and  1  miss(es) !\n",
      "\n"
     ]
    }
   ],
   "source": [
    "#Global variables\n",
    "code_dict={1:'RED', 2:'GREEN', 3:'BLUE', 4:'BLACK', 5:'WHITE', 6:'PURPLE'}\n",
    "codelist=[]\n",
    "playerlist= []\n",
    "playerlist2= []\n",
    "\n",
    "\n",
    "#Function random code generator\n",
    "def code_generator():\n",
    "    import random\n",
    "    code_keys=list(code_dict.keys())\n",
    "    i=1\n",
    "    while i<5:\n",
    "        codelist.append(random.choice(code_keys))\n",
    "        i+=1\n",
    "    return codelist\n",
    "\n",
    "#Function player attempt\n",
    "def playerattempt():\n",
    "\n",
    "    reflist = [1, 2, 3, 4, 5, 6]\n",
    "    i= 1\n",
    "    \n",
    "    while i<5:\n",
    "        userinput = int(input(\"Please chose one colored pin (1 is RED, 2 is GREEN, 3 is BLUE, 4 is BLACK, 5 is WHITE, 6 is PURPLE):\"))\n",
    "    \n",
    "        if userinput not in reflist:\n",
    "            userinput = int(input(\"Please make sure your input actually is an integer from 1 to 6 !: \"))\n",
    "    \n",
    "        playerlist.append(userinput)\n",
    "        \n",
    "        i +=1\n",
    "        \n",
    "    for item in playerlist:\n",
    "        playerlist2.append(code_dict[item]) \n",
    "        \n",
    "    print(\">>> Your attempt #\", playerloop+1, \"was: \", playerlist2)\n",
    "    \n",
    "    \n",
    "#Function compare\n",
    "def compare():\n",
    "    exactmatch=0\n",
    "    nearmatch=0\n",
    "    nomatch=0\n",
    "    for i in range(len(playerlist)):\n",
    "        if playerlist[i]==codelist[i]:\n",
    "            exactmatch +=1\n",
    "        elif playerlist[i] in codelist and playerlist[i]!=codelist[i]:\n",
    "            nearmatch +=1\n",
    "        else:\n",
    "            nomatch +=1\n",
    "    print(\">>> Your result so far: \", exactmatch, \"exact match(es), \", nearmatch, \" near match(es) and \", nomatch, \" miss(es) !\\n\")\n",
    "\n",
    "#Initiate player attempts\n",
    "playerloop = 0\n",
    "\n",
    "#Max number of player attempts\n",
    "maxloop = 12\n",
    "\n",
    "code_generator()            \n",
    "\n",
    "\n",
    "#Maxloop control    \n",
    "while playerloop <= maxloop :\n",
    "    playerattempt()\n",
    "    compare()\n",
    "    if playerlist == codelist:\n",
    "        print('You are a winner: congrats!')\n",
    "        break\n",
    "           \n",
    "    playerloop +=1\n",
    "    playerlist = []\n",
    "    playerlist2 = []\n",
    "    \n",
    "    if playerlist != codelist and playerloop == maxloop:\n",
    "        print(\"This was your last attempt and you lost: please try again soon!\")\n",
    "        break\n"
   ]
  },
  {
   "cell_type": "code",
   "execution_count": null,
   "id": "364d4935",
   "metadata": {},
   "outputs": [],
   "source": []
  },
  {
   "cell_type": "code",
   "execution_count": null,
   "id": "6273544e",
   "metadata": {},
   "outputs": [],
   "source": []
  }
 ],
 "metadata": {
  "kernelspec": {
   "display_name": "Python 3 (ipykernel)",
   "language": "python",
   "name": "python3"
  },
  "language_info": {
   "codemirror_mode": {
    "name": "ipython",
    "version": 3
   },
   "file_extension": ".py",
   "mimetype": "text/x-python",
   "name": "python",
   "nbconvert_exporter": "python",
   "pygments_lexer": "ipython3",
   "version": "3.9.7"
  }
 },
 "nbformat": 4,
 "nbformat_minor": 5
}
