{
 "cells": [
  {
   "cell_type": "code",
   "execution_count": 59,
   "id": "d14bd684",
   "metadata": {
    "scrolled": true
   },
   "outputs": [
    {
     "name": "stdout",
     "output_type": "stream",
     "text": [
      "[6, 2, 4, 4]\n",
      "Please key in 1 for RED, or 2 for GREEN, or 3 for BLUE, or 4 for BLACK, or 5 for WHITE, or 6 for PURPLE: 6\n",
      "Please key in 1 for RED, or 2 for GREEN, or 3 for BLUE, or 4 for BLACK, or 5 for WHITE, or 6 for PURPLE: 4\n",
      "Please key in 1 for RED, or 2 for GREEN, or 3 for BLUE, or 4 for BLACK, or 5 for WHITE, or 6 for PURPLE: 2\n",
      "Please key in 1 for RED, or 2 for GREEN, or 3 for BLUE, or 4 for BLACK, or 5 for WHITE, or 6 for PURPLE: 2\n",
      "Attempt # 1 is:  ['PURPLE', 'BLACK', 'GREEN', 'GREEN']\n",
      "['exact match', 'near match', 'near match', 'near match']\n",
      "Please key in 1 for RED, or 2 for GREEN, or 3 for BLUE, or 4 for BLACK, or 5 for WHITE, or 6 for PURPLE: 6\n",
      "Please key in 1 for RED, or 2 for GREEN, or 3 for BLUE, or 4 for BLACK, or 5 for WHITE, or 6 for PURPLE: 2\n",
      "Please key in 1 for RED, or 2 for GREEN, or 3 for BLUE, or 4 for BLACK, or 5 for WHITE, or 6 for PURPLE: 4\n",
      "Please key in 1 for RED, or 2 for GREEN, or 3 for BLUE, or 4 for BLACK, or 5 for WHITE, or 6 for PURPLE: 4\n",
      "Attempt # 2 is:  ['PURPLE', 'GREEN', 'BLACK', 'BLACK']\n",
      "['exact match', 'exact match', 'exact match', 'exact match']\n",
      "You are a winner: bravo !\n"
     ]
    }
   ],
   "source": [
    "#Global variables\n",
    "code_dict={1:'RED', 2:'GREEN', 3:'BLUE', 4:'BLACK', 5:'WHITE', 6:'PURPLE'}\n",
    "codelist=[]\n",
    "playerlist= []\n",
    "playerlist2= []\n",
    "\n",
    "\n",
    "#Function random code generator\n",
    "def code_generator():\n",
    "    import random\n",
    "    code_keys=list(code_dict.keys())\n",
    "    i=1\n",
    "    while i<5:\n",
    "        codelist.append(random.choice(code_keys))\n",
    "        i+=1\n",
    "    print(codelist)\n",
    "\n",
    "#Function player attempt\n",
    "def playerattempt():\n",
    "\n",
    "    reflist = [1, 2, 3, 4, 5, 6]\n",
    "    i= 1\n",
    "\n",
    "    while i<5:\n",
    "        userinput = int(input(\"Please key in 1 for RED, or 2 for GREEN, or 3 for BLUE, or 4 for BLACK, or 5 for WHITE, or 6 for PURPLE: \"))\n",
    "    \n",
    "        if userinput not in reflist:\n",
    "            userinput = int(input(\"Please make sure your input is either one of the 6 authorized integers!: \"))\n",
    "    \n",
    "        playerlist.append(userinput)\n",
    "        \n",
    "        i +=1\n",
    "        \n",
    "    for item in playerlist:\n",
    "        playerlist2.append(code_dict[item]) \n",
    "        \n",
    "    print(\"Attempt #\", playerloop, \"is: \", playerlist2)\n",
    "    \n",
    "    \n",
    "#Function compare\n",
    "def compare():\n",
    "    results=[]\n",
    "    for i in range(len(playerlist)):\n",
    "        if playerlist[i]==codelist[i]:\n",
    "            results.append('exact match')\n",
    "        elif playerlist[i] in codelist and playerlist[i]!=codelist[i]:\n",
    "            results.append('near match')\n",
    "        else:\n",
    "            results.append('no match')\n",
    "    print(results)\n",
    "\n",
    "#Initiate player attempts\n",
    "playerloop = 1\n",
    "\n",
    "#Max number of player attempts\n",
    "maxloop = 12\n",
    "\n",
    "code_generator()            \n",
    "\n",
    "\n",
    "#Maxloop control    \n",
    "while playerloop <= maxloop :\n",
    "    playerattempt()\n",
    "    compare()\n",
    "    if playerlist == codelist:\n",
    "        print('You are a winner: bravo !')\n",
    "        break\n",
    "    \n",
    "    playerloop +=1\n",
    "    playerlist = []\n",
    "    playerlist2 = []"
   ]
  },
  {
   "cell_type": "code",
   "execution_count": null,
   "id": "bff8e16b",
   "metadata": {},
   "outputs": [],
   "source": []
  },
  {
   "cell_type": "code",
   "execution_count": null,
   "id": "4922eecf",
   "metadata": {},
   "outputs": [],
   "source": []
  }
 ],
 "metadata": {
  "kernelspec": {
   "display_name": "Python 3 (ipykernel)",
   "language": "python",
   "name": "python3"
  },
  "language_info": {
   "codemirror_mode": {
    "name": "ipython",
    "version": 3
   },
   "file_extension": ".py",
   "mimetype": "text/x-python",
   "name": "python",
   "nbconvert_exporter": "python",
   "pygments_lexer": "ipython3",
   "version": "3.9.7"
  }
 },
 "nbformat": 4,
 "nbformat_minor": 5
}
